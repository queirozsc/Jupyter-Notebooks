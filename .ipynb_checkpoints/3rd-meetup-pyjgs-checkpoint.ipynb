{
 "cells": [
  {
   "cell_type": "markdown",
   "metadata": {
    "slideshow": {
     "slide_type": "slide"
    }
   },
   "source": [
    "# 1. Preparação\n",
    "## 1.1 Datasets\n",
    "Coletando os dados das flores:"
   ]
  },
  {
   "cell_type": "code",
   "execution_count": null,
   "metadata": {
    "slideshow": {
     "slide_type": "subslide"
    }
   },
   "outputs": [],
   "source": [
    "!wget https://raw.githubusercontent.com/uiuc-cse/data-fa14/gh-pages/data/iris.csv"
   ]
  },
  {
   "cell_type": "markdown",
   "metadata": {},
   "source": [
    "Instalando a biblioteca Pandas:"
   ]
  },
  {
   "cell_type": "code",
   "execution_count": null,
   "metadata": {},
   "outputs": [],
   "source": [
    "!pip install pandas"
   ]
  },
  {
   "cell_type": "markdown",
   "metadata": {
    "slideshow": {
     "slide_type": "subslide"
    }
   },
   "source": [
    "Importando para um dataframe Panda:"
   ]
  },
  {
   "cell_type": "code",
   "execution_count": null,
   "metadata": {
    "slideshow": {
     "slide_type": "subslide"
    }
   },
   "outputs": [],
   "source": [
    "import pandas as pd\n",
    "iris = pd.read_csv('iris.csv')\n",
    "print(iris.shape) # dimensoes\n",
    "iris.head()"
   ]
  },
  {
   "cell_type": "markdown",
   "metadata": {
    "slideshow": {
     "slide_type": "subslide"
    }
   },
   "source": [
    "O que é sépala? (http://www.feiradeciencias.com.br/sala26/image26/flower.jpg)"
   ]
  },
  {
   "cell_type": "markdown",
   "metadata": {
    "slideshow": {
     "slide_type": "slide"
    }
   },
   "source": [
    "# 1. Bibliotecas imperativas"
   ]
  },
  {
   "cell_type": "markdown",
   "metadata": {
    "slideshow": {
     "slide_type": "slide"
    }
   },
   "source": [
    "## 1.1 Pandas\n",
    "### Gráfico de dispersão"
   ]
  },
  {
   "cell_type": "code",
   "execution_count": null,
   "metadata": {
    "slideshow": {
     "slide_type": "fragment"
    }
   },
   "outputs": [],
   "source": [
    "iris.plot.scatter('petal_length', 'sepal_length')"
   ]
  },
  {
   "cell_type": "markdown",
   "metadata": {},
   "source": [
    "## 1.2 Matplotlib\n",
    "### Gráfico de dispersão\n",
    "Criando o dicionário de cores:"
   ]
  },
  {
   "cell_type": "code",
   "execution_count": null,
   "metadata": {},
   "outputs": [],
   "source": [
    "color_map = dict(zip(iris.species.unique(),\n",
    "                    ['blue', 'green', 'red']))\n",
    "color_map"
   ]
  },
  {
   "cell_type": "markdown",
   "metadata": {},
   "source": [
    "Instalando a biblioteca:"
   ]
  },
  {
   "cell_type": "code",
   "execution_count": null,
   "metadata": {},
   "outputs": [],
   "source": [
    "!pip install matplotlib"
   ]
  },
  {
   "cell_type": "markdown",
   "metadata": {},
   "source": [
    "Plotando:"
   ]
  },
  {
   "cell_type": "code",
   "execution_count": null,
   "metadata": {},
   "outputs": [],
   "source": [
    "import matplotlib.pyplot as plt\n",
    "for species, group in iris.groupby('species'):\n",
    "    plt.scatter(group['petal_length'], group['sepal_length'],\n",
    "               color=color_map[species],\n",
    "               alpha=0.3, edgeColor=None,\n",
    "               label=species)\n",
    "\n",
    "plt.legend(frameon=True, title='Espécie')\n",
    "plt.xlabel('Tam. Pétala')\n",
    "plt.ylabel('Tam. Sépala')\n",
    "plt.plot()"
   ]
  },
  {
   "cell_type": "markdown",
   "metadata": {},
   "source": [
    "## Matplotlib: conclusão\n",
    "### Vantagens\n",
    "+ Baseada em MatLab\n",
    "+ Biblioteca padrão há mais de uma década (= bem testada)\n",
    "+ Pouca dificuldade para produzir diferentes gráficos\n",
    "### Desvantagens\n",
    "+ Super descritiva\n",
    "+ Pobre de estilo\n",
    "+ Sem gráficos interativos\n",
    "+ Lento para grandes volumes de dados"
   ]
  },
  {
   "cell_type": "markdown",
   "metadata": {},
   "source": [
    "## 1.2 Seaborn\n",
    "### Gráfico de dispersão"
   ]
  },
  {
   "cell_type": "markdown",
   "metadata": {},
   "source": [
    "Instalando a biblioteca:"
   ]
  },
  {
   "cell_type": "code",
   "execution_count": null,
   "metadata": {},
   "outputs": [],
   "source": [
    "!pip install seaborn"
   ]
  },
  {
   "cell_type": "code",
   "execution_count": null,
   "metadata": {},
   "outputs": [],
   "source": [
    "import seaborn as sns\n",
    "sns.lmplot('petal_length', 'sepal_length', iris,\n",
    "          hue='species', fit_reg=False)"
   ]
  },
  {
   "cell_type": "markdown",
   "metadata": {},
   "source": [
    "### Dispersão múltipla"
   ]
  },
  {
   "cell_type": "code",
   "execution_count": null,
   "metadata": {},
   "outputs": [],
   "source": [
    "sns.pairplot(iris, hue='species')"
   ]
  },
  {
   "cell_type": "markdown",
   "metadata": {},
   "source": [
    "## Seaborn: conclusão\n",
    "+ Matplotlib com estilo melhorado\n",
    "+ Foco em visualização estatística e modelagem"
   ]
  },
  {
   "cell_type": "markdown",
   "metadata": {},
   "source": [
    "## 1.3 Bokeh"
   ]
  },
  {
   "cell_type": "markdown",
   "metadata": {},
   "source": [
    "Instalando:"
   ]
  },
  {
   "cell_type": "code",
   "execution_count": 1,
   "metadata": {},
   "outputs": [
    {
     "name": "stdout",
     "output_type": "stream",
     "text": [
      "Requirement already satisfied: bokeh in /home/queiroz/env-py3/lib/python3.5/site-packages\n",
      "Requirement already satisfied: six>=1.5.2 in /home/queiroz/env-py3/lib/python3.5/site-packages (from bokeh)\n",
      "Requirement already satisfied: PyYAML>=3.10 in /home/queiroz/env-py3/lib/python3.5/site-packages (from bokeh)\n",
      "Requirement already satisfied: python-dateutil>=2.1 in /home/queiroz/env-py3/lib/python3.5/site-packages (from bokeh)\n",
      "Requirement already satisfied: Jinja2>=2.7 in /home/queiroz/env-py3/lib/python3.5/site-packages (from bokeh)\n",
      "Requirement already satisfied: numpy>=1.7.1 in /home/queiroz/env-py3/lib/python3.5/site-packages (from bokeh)\n",
      "Requirement already satisfied: packaging>=16.8 in /home/queiroz/env-py3/lib/python3.5/site-packages (from bokeh)\n",
      "Requirement already satisfied: tornado>=4.3 in /home/queiroz/env-py3/lib/python3.5/site-packages (from bokeh)\n",
      "Requirement already satisfied: MarkupSafe>=0.23 in /home/queiroz/env-py3/lib/python3.5/site-packages (from Jinja2>=2.7->bokeh)\n",
      "Requirement already satisfied: pyparsing>=2.0.2 in /home/queiroz/env-py3/lib/python3.5/site-packages (from packaging>=16.8->bokeh)\n"
     ]
    }
   ],
   "source": [
    "!pip install bokeh"
   ]
  },
  {
   "cell_type": "code",
   "execution_count": 3,
   "metadata": {},
   "outputs": [
    {
     "data": {
      "text/html": [
       "\n",
       "    <div class=\"bk-root\">\n",
       "        <a href=\"https://bokeh.pydata.org\" target=\"_blank\" class=\"bk-logo bk-logo-small bk-logo-notebook\"></a>\n",
       "        <span id=\"37ad7867-c131-4980-b7e4-a6db95e99c11\">Loading BokehJS ...</span>\n",
       "    </div>"
      ]
     },
     "metadata": {},
     "output_type": "display_data"
    },
    {
     "data": {
      "application/javascript": [
       "\n",
       "(function(root) {\n",
       "  function now() {\n",
       "    return new Date();\n",
       "  }\n",
       "\n",
       "  var force = true;\n",
       "\n",
       "  if (typeof (root._bokeh_onload_callbacks) === \"undefined\" || force === true) {\n",
       "    root._bokeh_onload_callbacks = [];\n",
       "    root._bokeh_is_loading = undefined;\n",
       "  }\n",
       "\n",
       "  var JS_MIME_TYPE = 'application/javascript';\n",
       "  var HTML_MIME_TYPE = 'text/html';\n",
       "  var EXEC_MIME_TYPE = 'application/vnd.bokehjs_exec.v0+json';\n",
       "  var CLASS_NAME = 'output_bokeh rendered_html';\n",
       "\n",
       "  /**\n",
       "   * Render data to the DOM node\n",
       "   */\n",
       "  function render(props, node) {\n",
       "    var script = document.createElement(\"script\");\n",
       "    node.appendChild(script);\n",
       "  }\n",
       "\n",
       "  /**\n",
       "   * Handle when an output is cleared or removed\n",
       "   */\n",
       "  function handleClearOutput(event, handle) {\n",
       "    var cell = handle.cell;\n",
       "\n",
       "    var id = cell.output_area._bokeh_element_id;\n",
       "    var server_id = cell.output_area._bokeh_server_id;\n",
       "    // Clean up Bokeh references\n",
       "    if (id !== undefined) {\n",
       "      Bokeh.index[id].model.document.clear();\n",
       "      delete Bokeh.index[id];\n",
       "    }\n",
       "\n",
       "    if (server_id !== undefined) {\n",
       "      // Clean up Bokeh references\n",
       "      var cmd = \"from bokeh.io.state import curstate; print(curstate().uuid_to_server['\" + server_id + \"'].get_sessions()[0].document.roots[0]._id)\";\n",
       "      cell.notebook.kernel.execute(cmd, {\n",
       "        iopub: {\n",
       "          output: function(msg) {\n",
       "            var element_id = msg.content.text.trim();\n",
       "            Bokeh.index[element_id].model.document.clear();\n",
       "            delete Bokeh.index[element_id];\n",
       "          }\n",
       "        }\n",
       "      });\n",
       "      // Destroy server and session\n",
       "      var cmd = \"import bokeh.io.notebook as ion; ion.destroy_server('\" + server_id + \"')\";\n",
       "      cell.notebook.kernel.execute(cmd);\n",
       "    }\n",
       "  }\n",
       "\n",
       "  /**\n",
       "   * Handle when a new output is added\n",
       "   */\n",
       "  function handleAddOutput(event, handle) {\n",
       "    var output_area = handle.output_area;\n",
       "    var output = handle.output;\n",
       "\n",
       "    // limit handleAddOutput to display_data with EXEC_MIME_TYPE content only\n",
       "    if ((output.output_type != \"display_data\") || (!output.data.hasOwnProperty(EXEC_MIME_TYPE))) {\n",
       "      return\n",
       "    }\n",
       "\n",
       "    var toinsert = output_area.element.find(\".\" + CLASS_NAME.split(' ')[0]);\n",
       "\n",
       "    if (output.metadata[EXEC_MIME_TYPE][\"id\"] !== undefined) {\n",
       "      toinsert[0].firstChild.textContent = output.data[JS_MIME_TYPE];\n",
       "      // store reference to embed id on output_area\n",
       "      output_area._bokeh_element_id = output.metadata[EXEC_MIME_TYPE][\"id\"];\n",
       "    }\n",
       "    if (output.metadata[EXEC_MIME_TYPE][\"server_id\"] !== undefined) {\n",
       "      var bk_div = document.createElement(\"div\");\n",
       "      bk_div.innerHTML = output.data[HTML_MIME_TYPE];\n",
       "      var script_attrs = bk_div.children[0].attributes;\n",
       "      for (var i = 0; i < script_attrs.length; i++) {\n",
       "        toinsert[0].firstChild.setAttribute(script_attrs[i].name, script_attrs[i].value);\n",
       "      }\n",
       "      // store reference to server id on output_area\n",
       "      output_area._bokeh_server_id = output.metadata[EXEC_MIME_TYPE][\"server_id\"];\n",
       "    }\n",
       "  }\n",
       "\n",
       "  function register_renderer(events, OutputArea) {\n",
       "\n",
       "    function append_mime(data, metadata, element) {\n",
       "      // create a DOM node to render to\n",
       "      var toinsert = this.create_output_subarea(\n",
       "        metadata,\n",
       "        CLASS_NAME,\n",
       "        EXEC_MIME_TYPE\n",
       "      );\n",
       "      this.keyboard_manager.register_events(toinsert);\n",
       "      // Render to node\n",
       "      var props = {data: data, metadata: metadata[EXEC_MIME_TYPE]};\n",
       "      render(props, toinsert[0]);\n",
       "      element.append(toinsert);\n",
       "      return toinsert\n",
       "    }\n",
       "\n",
       "    /* Handle when an output is cleared or removed */\n",
       "    events.on('clear_output.CodeCell', handleClearOutput);\n",
       "    events.on('delete.Cell', handleClearOutput);\n",
       "\n",
       "    /* Handle when a new output is added */\n",
       "    events.on('output_added.OutputArea', handleAddOutput);\n",
       "\n",
       "    /**\n",
       "     * Register the mime type and append_mime function with output_area\n",
       "     */\n",
       "    OutputArea.prototype.register_mime_type(EXEC_MIME_TYPE, append_mime, {\n",
       "      /* Is output safe? */\n",
       "      safe: true,\n",
       "      /* Index of renderer in `output_area.display_order` */\n",
       "      index: 0\n",
       "    });\n",
       "  }\n",
       "\n",
       "  // register the mime type if in Jupyter Notebook environment and previously unregistered\n",
       "  if (root.Jupyter !== undefined) {\n",
       "    var events = require('base/js/events');\n",
       "    var OutputArea = require('notebook/js/outputarea').OutputArea;\n",
       "\n",
       "    if (OutputArea.prototype.mime_types().indexOf(EXEC_MIME_TYPE) == -1) {\n",
       "      register_renderer(events, OutputArea);\n",
       "    }\n",
       "  }\n",
       "\n",
       "  \n",
       "  if (typeof (root._bokeh_timeout) === \"undefined\" || force === true) {\n",
       "    root._bokeh_timeout = Date.now() + 5000;\n",
       "    root._bokeh_failed_load = false;\n",
       "  }\n",
       "\n",
       "  var NB_LOAD_WARNING = {'data': {'text/html':\n",
       "     \"<div style='background-color: #fdd'>\\n\"+\n",
       "     \"<p>\\n\"+\n",
       "     \"BokehJS does not appear to have successfully loaded. If loading BokehJS from CDN, this \\n\"+\n",
       "     \"may be due to a slow or bad network connection. Possible fixes:\\n\"+\n",
       "     \"</p>\\n\"+\n",
       "     \"<ul>\\n\"+\n",
       "     \"<li>re-rerun `output_notebook()` to attempt to load from CDN again, or</li>\\n\"+\n",
       "     \"<li>use INLINE resources instead, as so:</li>\\n\"+\n",
       "     \"</ul>\\n\"+\n",
       "     \"<code>\\n\"+\n",
       "     \"from bokeh.resources import INLINE\\n\"+\n",
       "     \"output_notebook(resources=INLINE)\\n\"+\n",
       "     \"</code>\\n\"+\n",
       "     \"</div>\"}};\n",
       "\n",
       "  function display_loaded() {\n",
       "    var el = document.getElementById(\"37ad7867-c131-4980-b7e4-a6db95e99c11\");\n",
       "    if (el != null) {\n",
       "      el.textContent = \"BokehJS is loading...\";\n",
       "    }\n",
       "    if (root.Bokeh !== undefined) {\n",
       "      if (el != null) {\n",
       "        el.textContent = \"BokehJS \" + root.Bokeh.version + \" successfully loaded.\";\n",
       "      }\n",
       "    } else if (Date.now() < root._bokeh_timeout) {\n",
       "      setTimeout(display_loaded, 100)\n",
       "    }\n",
       "  }\n",
       "\n",
       "\n",
       "  function run_callbacks() {\n",
       "    try {\n",
       "      root._bokeh_onload_callbacks.forEach(function(callback) { callback() });\n",
       "    }\n",
       "    finally {\n",
       "      delete root._bokeh_onload_callbacks\n",
       "    }\n",
       "    console.info(\"Bokeh: all callbacks have finished\");\n",
       "  }\n",
       "\n",
       "  function load_libs(js_urls, callback) {\n",
       "    root._bokeh_onload_callbacks.push(callback);\n",
       "    if (root._bokeh_is_loading > 0) {\n",
       "      console.log(\"Bokeh: BokehJS is being loaded, scheduling callback at\", now());\n",
       "      return null;\n",
       "    }\n",
       "    if (js_urls == null || js_urls.length === 0) {\n",
       "      run_callbacks();\n",
       "      return null;\n",
       "    }\n",
       "    console.log(\"Bokeh: BokehJS not loaded, scheduling load and callback at\", now());\n",
       "    root._bokeh_is_loading = js_urls.length;\n",
       "    for (var i = 0; i < js_urls.length; i++) {\n",
       "      var url = js_urls[i];\n",
       "      var s = document.createElement('script');\n",
       "      s.src = url;\n",
       "      s.async = false;\n",
       "      s.onreadystatechange = s.onload = function() {\n",
       "        root._bokeh_is_loading--;\n",
       "        if (root._bokeh_is_loading === 0) {\n",
       "          console.log(\"Bokeh: all BokehJS libraries loaded\");\n",
       "          run_callbacks()\n",
       "        }\n",
       "      };\n",
       "      s.onerror = function() {\n",
       "        console.warn(\"failed to load library \" + url);\n",
       "      };\n",
       "      console.log(\"Bokeh: injecting script tag for BokehJS library: \", url);\n",
       "      document.getElementsByTagName(\"head\")[0].appendChild(s);\n",
       "    }\n",
       "  };var element = document.getElementById(\"37ad7867-c131-4980-b7e4-a6db95e99c11\");\n",
       "  if (element == null) {\n",
       "    console.log(\"Bokeh: ERROR: autoload.js configured with elementid '37ad7867-c131-4980-b7e4-a6db95e99c11' but no matching script tag was found. \")\n",
       "    return false;\n",
       "  }\n",
       "\n",
       "  var js_urls = [\"https://cdn.pydata.org/bokeh/release/bokeh-0.12.14.min.js\", \"https://cdn.pydata.org/bokeh/release/bokeh-widgets-0.12.14.min.js\", \"https://cdn.pydata.org/bokeh/release/bokeh-tables-0.12.14.min.js\", \"https://cdn.pydata.org/bokeh/release/bokeh-gl-0.12.14.min.js\"];\n",
       "\n",
       "  var inline_js = [\n",
       "    function(Bokeh) {\n",
       "      Bokeh.set_log_level(\"info\");\n",
       "    },\n",
       "    \n",
       "    function(Bokeh) {\n",
       "      \n",
       "    },\n",
       "    function(Bokeh) {\n",
       "      console.log(\"Bokeh: injecting CSS: https://cdn.pydata.org/bokeh/release/bokeh-0.12.14.min.css\");\n",
       "      Bokeh.embed.inject_css(\"https://cdn.pydata.org/bokeh/release/bokeh-0.12.14.min.css\");\n",
       "      console.log(\"Bokeh: injecting CSS: https://cdn.pydata.org/bokeh/release/bokeh-widgets-0.12.14.min.css\");\n",
       "      Bokeh.embed.inject_css(\"https://cdn.pydata.org/bokeh/release/bokeh-widgets-0.12.14.min.css\");\n",
       "      console.log(\"Bokeh: injecting CSS: https://cdn.pydata.org/bokeh/release/bokeh-tables-0.12.14.min.css\");\n",
       "      Bokeh.embed.inject_css(\"https://cdn.pydata.org/bokeh/release/bokeh-tables-0.12.14.min.css\");\n",
       "    }\n",
       "  ];\n",
       "\n",
       "  function run_inline_js() {\n",
       "    \n",
       "    if ((root.Bokeh !== undefined) || (force === true)) {\n",
       "      for (var i = 0; i < inline_js.length; i++) {\n",
       "        inline_js[i].call(root, root.Bokeh);\n",
       "      }if (force === true) {\n",
       "        display_loaded();\n",
       "      }} else if (Date.now() < root._bokeh_timeout) {\n",
       "      setTimeout(run_inline_js, 100);\n",
       "    } else if (!root._bokeh_failed_load) {\n",
       "      console.log(\"Bokeh: BokehJS failed to load within specified timeout.\");\n",
       "      root._bokeh_failed_load = true;\n",
       "    } else if (force !== true) {\n",
       "      var cell = $(document.getElementById(\"37ad7867-c131-4980-b7e4-a6db95e99c11\")).parents('.cell').data().cell;\n",
       "      cell.output_area.append_execute_result(NB_LOAD_WARNING)\n",
       "    }\n",
       "\n",
       "  }\n",
       "\n",
       "  if (root._bokeh_is_loading === 0) {\n",
       "    console.log(\"Bokeh: BokehJS loaded, going straight to plotting\");\n",
       "    run_inline_js();\n",
       "  } else {\n",
       "    load_libs(js_urls, function() {\n",
       "      console.log(\"Bokeh: BokehJS plotting callback run at\", now());\n",
       "      run_inline_js();\n",
       "    });\n",
       "  }\n",
       "}(window));"
      ],
      "application/vnd.bokehjs_load.v0+json": "\n(function(root) {\n  function now() {\n    return new Date();\n  }\n\n  var force = true;\n\n  if (typeof (root._bokeh_onload_callbacks) === \"undefined\" || force === true) {\n    root._bokeh_onload_callbacks = [];\n    root._bokeh_is_loading = undefined;\n  }\n\n  \n\n  \n  if (typeof (root._bokeh_timeout) === \"undefined\" || force === true) {\n    root._bokeh_timeout = Date.now() + 5000;\n    root._bokeh_failed_load = false;\n  }\n\n  var NB_LOAD_WARNING = {'data': {'text/html':\n     \"<div style='background-color: #fdd'>\\n\"+\n     \"<p>\\n\"+\n     \"BokehJS does not appear to have successfully loaded. If loading BokehJS from CDN, this \\n\"+\n     \"may be due to a slow or bad network connection. Possible fixes:\\n\"+\n     \"</p>\\n\"+\n     \"<ul>\\n\"+\n     \"<li>re-rerun `output_notebook()` to attempt to load from CDN again, or</li>\\n\"+\n     \"<li>use INLINE resources instead, as so:</li>\\n\"+\n     \"</ul>\\n\"+\n     \"<code>\\n\"+\n     \"from bokeh.resources import INLINE\\n\"+\n     \"output_notebook(resources=INLINE)\\n\"+\n     \"</code>\\n\"+\n     \"</div>\"}};\n\n  function display_loaded() {\n    var el = document.getElementById(\"37ad7867-c131-4980-b7e4-a6db95e99c11\");\n    if (el != null) {\n      el.textContent = \"BokehJS is loading...\";\n    }\n    if (root.Bokeh !== undefined) {\n      if (el != null) {\n        el.textContent = \"BokehJS \" + root.Bokeh.version + \" successfully loaded.\";\n      }\n    } else if (Date.now() < root._bokeh_timeout) {\n      setTimeout(display_loaded, 100)\n    }\n  }\n\n\n  function run_callbacks() {\n    try {\n      root._bokeh_onload_callbacks.forEach(function(callback) { callback() });\n    }\n    finally {\n      delete root._bokeh_onload_callbacks\n    }\n    console.info(\"Bokeh: all callbacks have finished\");\n  }\n\n  function load_libs(js_urls, callback) {\n    root._bokeh_onload_callbacks.push(callback);\n    if (root._bokeh_is_loading > 0) {\n      console.log(\"Bokeh: BokehJS is being loaded, scheduling callback at\", now());\n      return null;\n    }\n    if (js_urls == null || js_urls.length === 0) {\n      run_callbacks();\n      return null;\n    }\n    console.log(\"Bokeh: BokehJS not loaded, scheduling load and callback at\", now());\n    root._bokeh_is_loading = js_urls.length;\n    for (var i = 0; i < js_urls.length; i++) {\n      var url = js_urls[i];\n      var s = document.createElement('script');\n      s.src = url;\n      s.async = false;\n      s.onreadystatechange = s.onload = function() {\n        root._bokeh_is_loading--;\n        if (root._bokeh_is_loading === 0) {\n          console.log(\"Bokeh: all BokehJS libraries loaded\");\n          run_callbacks()\n        }\n      };\n      s.onerror = function() {\n        console.warn(\"failed to load library \" + url);\n      };\n      console.log(\"Bokeh: injecting script tag for BokehJS library: \", url);\n      document.getElementsByTagName(\"head\")[0].appendChild(s);\n    }\n  };var element = document.getElementById(\"37ad7867-c131-4980-b7e4-a6db95e99c11\");\n  if (element == null) {\n    console.log(\"Bokeh: ERROR: autoload.js configured with elementid '37ad7867-c131-4980-b7e4-a6db95e99c11' but no matching script tag was found. \")\n    return false;\n  }\n\n  var js_urls = [\"https://cdn.pydata.org/bokeh/release/bokeh-0.12.14.min.js\", \"https://cdn.pydata.org/bokeh/release/bokeh-widgets-0.12.14.min.js\", \"https://cdn.pydata.org/bokeh/release/bokeh-tables-0.12.14.min.js\", \"https://cdn.pydata.org/bokeh/release/bokeh-gl-0.12.14.min.js\"];\n\n  var inline_js = [\n    function(Bokeh) {\n      Bokeh.set_log_level(\"info\");\n    },\n    \n    function(Bokeh) {\n      \n    },\n    function(Bokeh) {\n      console.log(\"Bokeh: injecting CSS: https://cdn.pydata.org/bokeh/release/bokeh-0.12.14.min.css\");\n      Bokeh.embed.inject_css(\"https://cdn.pydata.org/bokeh/release/bokeh-0.12.14.min.css\");\n      console.log(\"Bokeh: injecting CSS: https://cdn.pydata.org/bokeh/release/bokeh-widgets-0.12.14.min.css\");\n      Bokeh.embed.inject_css(\"https://cdn.pydata.org/bokeh/release/bokeh-widgets-0.12.14.min.css\");\n      console.log(\"Bokeh: injecting CSS: https://cdn.pydata.org/bokeh/release/bokeh-tables-0.12.14.min.css\");\n      Bokeh.embed.inject_css(\"https://cdn.pydata.org/bokeh/release/bokeh-tables-0.12.14.min.css\");\n    }\n  ];\n\n  function run_inline_js() {\n    \n    if ((root.Bokeh !== undefined) || (force === true)) {\n      for (var i = 0; i < inline_js.length; i++) {\n        inline_js[i].call(root, root.Bokeh);\n      }if (force === true) {\n        display_loaded();\n      }} else if (Date.now() < root._bokeh_timeout) {\n      setTimeout(run_inline_js, 100);\n    } else if (!root._bokeh_failed_load) {\n      console.log(\"Bokeh: BokehJS failed to load within specified timeout.\");\n      root._bokeh_failed_load = true;\n    } else if (force !== true) {\n      var cell = $(document.getElementById(\"37ad7867-c131-4980-b7e4-a6db95e99c11\")).parents('.cell').data().cell;\n      cell.output_area.append_execute_result(NB_LOAD_WARNING)\n    }\n\n  }\n\n  if (root._bokeh_is_loading === 0) {\n    console.log(\"Bokeh: BokehJS loaded, going straight to plotting\");\n    run_inline_js();\n  } else {\n    load_libs(js_urls, function() {\n      console.log(\"Bokeh: BokehJS plotting callback run at\", now());\n      run_inline_js();\n    });\n  }\n}(window));"
     },
     "metadata": {},
     "output_type": "display_data"
    },
    {
     "data": {
      "text/html": [
       "\n",
       "<div class=\"bk-root\">\n",
       "    <div class=\"bk-plotdiv\" id=\"cd412b0f-6bf6-41bc-9ad2-3d7f81f1f844\"></div>\n",
       "</div>"
      ]
     },
     "metadata": {},
     "output_type": "display_data"
    },
    {
     "data": {
      "application/javascript": [
       "(function(root) {\n",
       "  function embed_document(root) {\n",
       "    \n",
       "  var docs_json = {\"33b6cd56-93df-4512-afb9-9805ec8551f9\":{\"roots\":{\"references\":[{\"attributes\":{},\"id\":\"e0bfc6bc-3d74-4d16-b920-cc7cafad77e6\",\"type\":\"BasicTicker\"},{\"attributes\":{\"fill_alpha\":{\"value\":0.1},\"fill_color\":{\"value\":\"#1f77b4\"},\"line_alpha\":{\"value\":0.1},\"line_color\":{\"value\":\"#1f77b4\"},\"size\":{\"units\":\"screen\",\"value\":12},\"x\":{\"field\":\"x\"},\"y\":{\"field\":\"y\"}},\"id\":\"e0a3cdb5-3b59-4c04-824f-32dc7ec55a20\",\"type\":\"Square\"},{\"attributes\":{},\"id\":\"c371d40f-8bd0-4eb7-9b7f-a6207192ae1b\",\"type\":\"BasicTicker\"},{\"attributes\":{},\"id\":\"c6eac7f5-357e-4016-bbf4-8561a0622f27\",\"type\":\"BasicTickFormatter\"},{\"attributes\":{\"callback\":null,\"column_names\":[\"x\",\"y\"],\"data\":{\"x\":[1,3,4,5,8],\"y\":[8,7,3,1,10]}},\"id\":\"176cf2fb-de76-4644-84e5-d7761dab09b8\",\"type\":\"ColumnDataSource\"},{\"attributes\":{},\"id\":\"5a9deffd-3417-478f-b461-73f872292ebf\",\"type\":\"WheelZoomTool\"},{\"attributes\":{\"fill_color\":{\"value\":\"red\"},\"line_color\":{\"value\":\"red\"},\"size\":{\"units\":\"screen\",\"value\":12},\"x\":{\"field\":\"x\"},\"y\":{\"field\":\"y\"}},\"id\":\"9bc3942c-4653-4247-8f99-b87e7f0052ff\",\"type\":\"Circle\"},{\"attributes\":{},\"id\":\"92cf376b-7048-442c-a0ab-1e48366b57e0\",\"type\":\"ResetTool\"},{\"attributes\":{\"source\":{\"id\":\"176cf2fb-de76-4644-84e5-d7761dab09b8\",\"type\":\"ColumnDataSource\"}},\"id\":\"1207ef19-7d3c-46ff-87a7-1110152ca848\",\"type\":\"CDSView\"},{\"attributes\":{\"callback\":null},\"id\":\"32742468-cf22-49b4-a5b1-61e97b81c3ef\",\"type\":\"DataRange1d\"},{\"attributes\":{\"callback\":null},\"id\":\"5f50caa5-7ff5-4743-b928-8a659b103b4b\",\"type\":\"DataRange1d\"},{\"attributes\":{\"data_source\":{\"id\":\"431f3e0d-5daf-4a10-bd2e-ef15b0f453d5\",\"type\":\"ColumnDataSource\"},\"glyph\":{\"id\":\"9bc3942c-4653-4247-8f99-b87e7f0052ff\",\"type\":\"Circle\"},\"hover_glyph\":null,\"muted_glyph\":null,\"nonselection_glyph\":{\"id\":\"503796a1-1a8d-4a00-a1ec-1aaa332e4e80\",\"type\":\"Circle\"},\"selection_glyph\":null,\"view\":{\"id\":\"894bfd3d-a684-49af-ab41-fd400e5f519d\",\"type\":\"CDSView\"}},\"id\":\"b04714fa-7b1b-49e5-ba47-c1a108328a7d\",\"type\":\"GlyphRenderer\"},{\"attributes\":{},\"id\":\"75040744-4d03-456f-8020-e38aa033e199\",\"type\":\"SaveTool\"},{\"attributes\":{\"dimension\":1,\"plot\":{\"id\":\"d5bdb791-1ba4-4dd8-afa1-7c38e8990b55\",\"subtype\":\"Figure\",\"type\":\"Plot\"},\"ticker\":{\"id\":\"c371d40f-8bd0-4eb7-9b7f-a6207192ae1b\",\"type\":\"BasicTicker\"}},\"id\":\"79a6bbbf-2969-444f-bd89-28f286130b41\",\"type\":\"Grid\"},{\"attributes\":{\"data_source\":{\"id\":\"176cf2fb-de76-4644-84e5-d7761dab09b8\",\"type\":\"ColumnDataSource\"},\"glyph\":{\"id\":\"95f2fe20-dd4e-425f-8934-23c4709cef3b\",\"type\":\"Square\"},\"hover_glyph\":null,\"muted_glyph\":null,\"nonselection_glyph\":{\"id\":\"e0a3cdb5-3b59-4c04-824f-32dc7ec55a20\",\"type\":\"Square\"},\"selection_glyph\":null,\"view\":{\"id\":\"1207ef19-7d3c-46ff-87a7-1110152ca848\",\"type\":\"CDSView\"}},\"id\":\"a44e2400-47ea-4273-8816-f07424f4b957\",\"type\":\"GlyphRenderer\"},{\"attributes\":{\"active_drag\":\"auto\",\"active_inspect\":\"auto\",\"active_scroll\":\"auto\",\"active_tap\":\"auto\",\"tools\":[{\"id\":\"24212c67-ff0a-4b73-90f7-1becbab3f61e\",\"type\":\"PanTool\"},{\"id\":\"5a9deffd-3417-478f-b461-73f872292ebf\",\"type\":\"WheelZoomTool\"},{\"id\":\"9bdec4ab-d85b-4c9e-a735-82fa34216fbc\",\"type\":\"BoxZoomTool\"},{\"id\":\"75040744-4d03-456f-8020-e38aa033e199\",\"type\":\"SaveTool\"},{\"id\":\"92cf376b-7048-442c-a0ab-1e48366b57e0\",\"type\":\"ResetTool\"},{\"id\":\"4a598f98-788b-4633-a1b7-53669f2009be\",\"type\":\"HelpTool\"}]},\"id\":\"8602927c-12c7-4731-806c-df7275928117\",\"type\":\"Toolbar\"},{\"attributes\":{},\"id\":\"8ceeb56f-72ac-4c2d-8117-b9a53a979883\",\"type\":\"LinearScale\"},{\"attributes\":{\"overlay\":{\"id\":\"c3b76398-714e-4187-a158-fee0282dd205\",\"type\":\"BoxAnnotation\"}},\"id\":\"9bdec4ab-d85b-4c9e-a735-82fa34216fbc\",\"type\":\"BoxZoomTool\"},{\"attributes\":{\"plot\":{\"id\":\"d5bdb791-1ba4-4dd8-afa1-7c38e8990b55\",\"subtype\":\"Figure\",\"type\":\"Plot\"},\"ticker\":{\"id\":\"e0bfc6bc-3d74-4d16-b920-cc7cafad77e6\",\"type\":\"BasicTicker\"}},\"id\":\"b9ca11ee-04f7-470d-bca8-b3f89b76a865\",\"type\":\"Grid\"},{\"attributes\":{},\"id\":\"a7e407c6-dd96-4182-9f96-036f04ccbfff\",\"type\":\"LinearScale\"},{\"attributes\":{\"axis_label\":\"Y\",\"formatter\":{\"id\":\"4f5ace4b-770b-4a41-94b2-617fb8d4a22d\",\"type\":\"BasicTickFormatter\"},\"plot\":{\"id\":\"d5bdb791-1ba4-4dd8-afa1-7c38e8990b55\",\"subtype\":\"Figure\",\"type\":\"Plot\"},\"ticker\":{\"id\":\"c371d40f-8bd0-4eb7-9b7f-a6207192ae1b\",\"type\":\"BasicTicker\"}},\"id\":\"bd65126b-aabc-4874-9d96-65c749d9ac13\",\"type\":\"LinearAxis\"},{\"attributes\":{\"source\":{\"id\":\"431f3e0d-5daf-4a10-bd2e-ef15b0f453d5\",\"type\":\"ColumnDataSource\"}},\"id\":\"894bfd3d-a684-49af-ab41-fd400e5f519d\",\"type\":\"CDSView\"},{\"attributes\":{\"fill_alpha\":{\"value\":0.1},\"fill_color\":{\"value\":\"#1f77b4\"},\"line_alpha\":{\"value\":0.1},\"line_color\":{\"value\":\"#1f77b4\"},\"size\":{\"units\":\"screen\",\"value\":12},\"x\":{\"field\":\"x\"},\"y\":{\"field\":\"y\"}},\"id\":\"503796a1-1a8d-4a00-a1ec-1aaa332e4e80\",\"type\":\"Circle\"},{\"attributes\":{\"axis_label\":\"X\",\"formatter\":{\"id\":\"c6eac7f5-357e-4016-bbf4-8561a0622f27\",\"type\":\"BasicTickFormatter\"},\"plot\":{\"id\":\"d5bdb791-1ba4-4dd8-afa1-7c38e8990b55\",\"subtype\":\"Figure\",\"type\":\"Plot\"},\"ticker\":{\"id\":\"e0bfc6bc-3d74-4d16-b920-cc7cafad77e6\",\"type\":\"BasicTicker\"}},\"id\":\"28c9b179-e49b-4f86-8a3c-6bba5b0d0ff0\",\"type\":\"LinearAxis\"},{\"attributes\":{\"callback\":null,\"column_names\":[\"x\",\"y\"],\"data\":{\"x\":[9,12,4,3,15],\"y\":[8,4,11,6,10]}},\"id\":\"431f3e0d-5daf-4a10-bd2e-ef15b0f453d5\",\"type\":\"ColumnDataSource\"},{\"attributes\":{},\"id\":\"24212c67-ff0a-4b73-90f7-1becbab3f61e\",\"type\":\"PanTool\"},{\"attributes\":{\"plot\":null,\"text\":\"Example Glyphs\"},\"id\":\"bde4ea70-7886-4f43-9496-864d97b9f359\",\"type\":\"Title\"},{\"attributes\":{\"bottom_units\":\"screen\",\"fill_alpha\":{\"value\":0.5},\"fill_color\":{\"value\":\"lightgrey\"},\"left_units\":\"screen\",\"level\":\"overlay\",\"line_alpha\":{\"value\":1.0},\"line_color\":{\"value\":\"black\"},\"line_dash\":[4,4],\"line_width\":{\"value\":2},\"plot\":null,\"render_mode\":\"css\",\"right_units\":\"screen\",\"top_units\":\"screen\"},\"id\":\"c3b76398-714e-4187-a158-fee0282dd205\",\"type\":\"BoxAnnotation\"},{\"attributes\":{\"below\":[{\"id\":\"28c9b179-e49b-4f86-8a3c-6bba5b0d0ff0\",\"type\":\"LinearAxis\"}],\"left\":[{\"id\":\"bd65126b-aabc-4874-9d96-65c749d9ac13\",\"type\":\"LinearAxis\"}],\"renderers\":[{\"id\":\"28c9b179-e49b-4f86-8a3c-6bba5b0d0ff0\",\"type\":\"LinearAxis\"},{\"id\":\"b9ca11ee-04f7-470d-bca8-b3f89b76a865\",\"type\":\"Grid\"},{\"id\":\"bd65126b-aabc-4874-9d96-65c749d9ac13\",\"type\":\"LinearAxis\"},{\"id\":\"79a6bbbf-2969-444f-bd89-28f286130b41\",\"type\":\"Grid\"},{\"id\":\"c3b76398-714e-4187-a158-fee0282dd205\",\"type\":\"BoxAnnotation\"},{\"id\":\"a44e2400-47ea-4273-8816-f07424f4b957\",\"type\":\"GlyphRenderer\"},{\"id\":\"b04714fa-7b1b-49e5-ba47-c1a108328a7d\",\"type\":\"GlyphRenderer\"}],\"title\":{\"id\":\"bde4ea70-7886-4f43-9496-864d97b9f359\",\"type\":\"Title\"},\"toolbar\":{\"id\":\"8602927c-12c7-4731-806c-df7275928117\",\"type\":\"Toolbar\"},\"x_range\":{\"id\":\"32742468-cf22-49b4-a5b1-61e97b81c3ef\",\"type\":\"DataRange1d\"},\"x_scale\":{\"id\":\"8ceeb56f-72ac-4c2d-8117-b9a53a979883\",\"type\":\"LinearScale\"},\"y_range\":{\"id\":\"5f50caa5-7ff5-4743-b928-8a659b103b4b\",\"type\":\"DataRange1d\"},\"y_scale\":{\"id\":\"a7e407c6-dd96-4182-9f96-036f04ccbfff\",\"type\":\"LinearScale\"}},\"id\":\"d5bdb791-1ba4-4dd8-afa1-7c38e8990b55\",\"subtype\":\"Figure\",\"type\":\"Plot\"},{\"attributes\":{\"fill_alpha\":{\"value\":0.6},\"fill_color\":{\"value\":\"navy\"},\"line_alpha\":{\"value\":0.6},\"line_color\":{\"value\":\"navy\"},\"size\":{\"units\":\"screen\",\"value\":12},\"x\":{\"field\":\"x\"},\"y\":{\"field\":\"y\"}},\"id\":\"95f2fe20-dd4e-425f-8934-23c4709cef3b\",\"type\":\"Square\"},{\"attributes\":{},\"id\":\"4a598f98-788b-4633-a1b7-53669f2009be\",\"type\":\"HelpTool\"},{\"attributes\":{},\"id\":\"4f5ace4b-770b-4a41-94b2-617fb8d4a22d\",\"type\":\"BasicTickFormatter\"}],\"root_ids\":[\"d5bdb791-1ba4-4dd8-afa1-7c38e8990b55\"]},\"title\":\"Bokeh Application\",\"version\":\"0.12.14\"}};\n",
       "  var render_items = [{\"docid\":\"33b6cd56-93df-4512-afb9-9805ec8551f9\",\"elementid\":\"cd412b0f-6bf6-41bc-9ad2-3d7f81f1f844\",\"modelid\":\"d5bdb791-1ba4-4dd8-afa1-7c38e8990b55\"}];\n",
       "  root.Bokeh.embed.embed_items_notebook(docs_json, render_items);\n",
       "\n",
       "  }\n",
       "  if (root.Bokeh !== undefined) {\n",
       "    embed_document(root);\n",
       "  } else {\n",
       "    var attempts = 0;\n",
       "    var timer = setInterval(function(root) {\n",
       "      if (root.Bokeh !== undefined) {\n",
       "        embed_document(root);\n",
       "        clearInterval(timer);\n",
       "      }\n",
       "      attempts++;\n",
       "      if (attempts > 100) {\n",
       "        console.log(\"Bokeh: ERROR: Unable to run BokehJS code because BokehJS library is missing\")\n",
       "        clearInterval(timer);\n",
       "      }\n",
       "    }, 10, root)\n",
       "  }\n",
       "})(window);"
      ],
      "application/vnd.bokehjs_exec.v0+json": ""
     },
     "metadata": {
      "application/vnd.bokehjs_exec.v0+json": {
       "id": "d5bdb791-1ba4-4dd8-afa1-7c38e8990b55"
      }
     },
     "output_type": "display_data"
    }
   ],
   "source": [
    "from bokeh.plotting import figure\n",
    "from bokeh.io import show, output_notebook\n",
    "\n",
    "# Create a blank figure with labels\n",
    "p = figure(plot_width = 600, plot_height = 600, \n",
    "           title = 'Example Glyphs',\n",
    "           x_axis_label = 'X', y_axis_label = 'Y')\n",
    "\n",
    "# Example data\n",
    "squares_x = [1, 3, 4, 5, 8]\n",
    "squares_y = [8, 7, 3, 1, 10]\n",
    "circles_x = [9, 12, 4, 3, 15]\n",
    "circles_y = [8, 4, 11, 6, 10]\n",
    "\n",
    "# Add squares glyph\n",
    "p.square(squares_x, squares_y, size = 12, color = 'navy', alpha = 0.6)\n",
    "# Add circle glyph\n",
    "p.circle(circles_x, circles_y, size = 12, color = 'red')\n",
    "\n",
    "# Set to output the plot in the notebook\n",
    "output_notebook()\n",
    "# Show the plot\n",
    "show(p)\n",
    "\n",
    "#p = figure()\n",
    "#p.cirle(iris.petal_length, iris.sepal_length)\n",
    "#show(p)"
   ]
  },
  {
   "cell_type": "markdown",
   "metadata": {},
   "source": [
    "## Bokeh: conclusão\n",
    "### Vantagens\n",
    "+ Interatividade\n",
    "+ Camada imperativa e declarativa\n",
    "+ Suporta grandes datasets/streammings\n",
    "+ Geoespacial\n",
    "+ Completamente open source\n",
    "### Desvantagens\n",
    "+ Não exporta para PDF/EPS\n",
    "+ Base de usuários menor que a Matplotlib"
   ]
  },
  {
   "cell_type": "markdown",
   "metadata": {},
   "source": [
    "### Andrews Curves"
   ]
  },
  {
   "cell_type": "code",
   "execution_count": null,
   "metadata": {},
   "outputs": [],
   "source": [
    "from pandas.plotting import andrews_curves\n",
    "andrews_curves(iris, 'species')"
   ]
  },
  {
   "cell_type": "markdown",
   "metadata": {},
   "source": [
    "# 2. Bibliotecas declarativas"
   ]
  },
  {
   "cell_type": "markdown",
   "metadata": {},
   "source": [
    "## 2.1 Altair\n",
    "Instalando:"
   ]
  },
  {
   "cell_type": "code",
   "execution_count": null,
   "metadata": {},
   "outputs": [],
   "source": [
    "!pip install altair"
   ]
  },
  {
   "cell_type": "markdown",
   "metadata": {},
   "source": [
    "Adicionando a extensão Vega:"
   ]
  },
  {
   "cell_type": "code",
   "execution_count": null,
   "metadata": {},
   "outputs": [],
   "source": [
    "!jupyter nbextension install --sys-prefix --py vega "
   ]
  },
  {
   "cell_type": "markdown",
   "metadata": {},
   "source": [
    "### Gráfico geospacial"
   ]
  },
  {
   "cell_type": "markdown",
   "metadata": {},
   "source": [
    "Baixando o dataset:"
   ]
  },
  {
   "cell_type": "code",
   "execution_count": null,
   "metadata": {},
   "outputs": [],
   "source": [
    "!wget https://github.com/jakevdp/altair-examples/raw/master/data/airports.csv\n",
    "data_url = 'airports.csv'\n",
    "pd.read_csv(data_url).head()"
   ]
  },
  {
   "cell_type": "markdown",
   "metadata": {},
   "source": [
    "Plotando:"
   ]
  },
  {
   "cell_type": "code",
   "execution_count": null,
   "metadata": {},
   "outputs": [],
   "source": [
    "from altair import Chart, X, Y, Axis, Scale\n",
    "\n",
    "Chart(data_url).mark_circle(\n",
    "    size=1,\n",
    "    opacity=0.2\n",
    ").encode(\n",
    "    x=X('longitude_deg:Q', axis=Axis(title=' ')),\n",
    "    y=Y('latitude_deg:Q', axis=Axis(title=' '),\n",
    "        scale=Scale(domain=(-60, 80))),\n",
    "    color='type:N',\n",
    ").configure_cell(\n",
    "    width=800,\n",
    "    height=350\n",
    ").configure_axis(\n",
    "    grid=False,\n",
    "    axisWidth=0,\n",
    "    tickWidth=0,\n",
    "    labels=False,\n",
    ")"
   ]
  },
  {
   "cell_type": "markdown",
   "metadata": {},
   "source": [
    "### Gráfico sobreposto"
   ]
  },
  {
   "cell_type": "markdown",
   "metadata": {},
   "source": [
    "Baixando o dataset:"
   ]
  },
  {
   "cell_type": "code",
   "execution_count": null,
   "metadata": {},
   "outputs": [],
   "source": [
    "!wget https://raw.githubusercontent.com/jakevdp/altair-examples/master/data/strikeouts.csv\n",
    "data = \"strikeouts.csv\"\n",
    "pd.read_csv(data).head()"
   ]
  },
  {
   "cell_type": "markdown",
   "metadata": {},
   "source": [
    "Plotando a primeira camada:"
   ]
  },
  {
   "cell_type": "code",
   "execution_count": null,
   "metadata": {},
   "outputs": [],
   "source": [
    "from altair import *\n",
    "\n",
    "# Create an empty LayeredChart with our data\n",
    "chart = LayeredChart(data).transform_data(\n",
    "    calculate=[Formula(field='so_per_game', expr='datum.so / datum.g')]\n",
    ").configure_cell(\n",
    "    height=300,\n",
    "    width=700\n",
    ")\n",
    "\n",
    "# Add-in team-by-team points\n",
    "chart += Chart().mark_circle(\n",
    "    color='gray',\n",
    "    opacity=0.1,\n",
    ").encode(\n",
    "    x=X('year:T', timeUnit='year', axis=Axis(title=' ')),\n",
    "    y=Y('so_per_game', axis=Axis(title='Strikeouts Per Game')),\n",
    "    detail='histcode:N',\n",
    ")\n",
    "\n",
    "chart.display()"
   ]
  },
  {
   "cell_type": "markdown",
   "metadata": {},
   "source": [
    "Segunda camada:"
   ]
  },
  {
   "cell_type": "code",
   "execution_count": null,
   "metadata": {},
   "outputs": [],
   "source": [
    "# Add a rolling-mean as a line\n",
    "chart += Chart().mark_line().encode(\n",
    "    x='year:T',\n",
    "    y='mean(so_per_game)',\n",
    ")\n",
    "\n",
    "# Add rolling-mean as a circle\n",
    "chart += Chart().mark_circle().encode(\n",
    "    x='year:T',\n",
    "    y='mean(so_per_game)',\n",
    ")\n",
    "\n",
    "chart.display()"
   ]
  }
 ],
 "metadata": {
  "kernelspec": {
   "display_name": "Python 3",
   "language": "python",
   "name": "python3"
  },
  "language_info": {
   "codemirror_mode": {
    "name": "ipython",
    "version": 3
   },
   "file_extension": ".py",
   "mimetype": "text/x-python",
   "name": "python",
   "nbconvert_exporter": "python",
   "pygments_lexer": "ipython3",
   "version": "3.5.4rc1"
  }
 },
 "nbformat": 4,
 "nbformat_minor": 2
}
