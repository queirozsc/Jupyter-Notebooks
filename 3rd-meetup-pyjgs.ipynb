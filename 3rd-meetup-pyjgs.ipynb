{
 "cells": [
  {
   "cell_type": "markdown",
   "metadata": {
    "slideshow": {
     "slide_type": "slide"
    }
   },
   "source": [
    "# 1. Preparação\n",
    "## 1.1 Datasets\n",
    "Coletando os dados das flores:"
   ]
  },
  {
   "cell_type": "code",
   "execution_count": null,
   "metadata": {
    "slideshow": {
     "slide_type": "subslide"
    }
   },
   "outputs": [],
   "source": [
    "!wget https://raw.githubusercontent.com/uiuc-cse/data-fa14/gh-pages/data/iris.csv"
   ]
  },
  {
   "cell_type": "markdown",
   "metadata": {},
   "source": [
    "Instalando a biblioteca Pandas:"
   ]
  },
  {
   "cell_type": "code",
   "execution_count": null,
   "metadata": {},
   "outputs": [],
   "source": [
    "!pip install pandas"
   ]
  },
  {
   "cell_type": "markdown",
   "metadata": {
    "slideshow": {
     "slide_type": "subslide"
    }
   },
   "source": [
    "Importando para um dataframe Panda:"
   ]
  },
  {
   "cell_type": "code",
   "execution_count": null,
   "metadata": {
    "slideshow": {
     "slide_type": "subslide"
    }
   },
   "outputs": [],
   "source": [
    "import pandas as pd\n",
    "iris = pd.read_csv('iris.csv')\n",
    "print(iris.shape) # dimensoes\n",
    "iris.head()"
   ]
  },
  {
   "attachments": {},
   "cell_type": "markdown",
   "metadata": {
    "slideshow": {
     "slide_type": "subslide"
    }
   },
   "source": [
    "O que é sépala? (http://www.feiradeciencias.com.br/sala26/image26/flower.jpg)"
   ]
  },
  {
   "cell_type": "markdown",
   "metadata": {
    "slideshow": {
     "slide_type": "slide"
    }
   },
   "source": [
    "# 1. Bibliotecas imperativas"
   ]
  },
  {
   "cell_type": "markdown",
   "metadata": {
    "slideshow": {
     "slide_type": "slide"
    }
   },
   "source": [
    "## 1.1 Pandas\n",
    "### Gráfico de dispersão"
   ]
  },
  {
   "cell_type": "code",
   "execution_count": null,
   "metadata": {
    "slideshow": {
     "slide_type": "fragment"
    }
   },
   "outputs": [],
   "source": [
    "iris.plot.scatter('petal_length', 'sepal_length')"
   ]
  },
  {
   "cell_type": "markdown",
   "metadata": {},
   "source": [
    "## 1.2 Matplotlib\n",
    "### Gráfico de dispersão\n",
    "Criando o dicionário de cores:"
   ]
  },
  {
   "cell_type": "code",
   "execution_count": null,
   "metadata": {},
   "outputs": [],
   "source": [
    "color_map = dict(zip(iris.species.unique(),\n",
    "                    ['blue', 'green', 'red']))\n",
    "color_map"
   ]
  },
  {
   "cell_type": "markdown",
   "metadata": {},
   "source": [
    "Instalando a biblioteca:"
   ]
  },
  {
   "cell_type": "code",
   "execution_count": null,
   "metadata": {},
   "outputs": [],
   "source": [
    "!pip install matplotlib"
   ]
  },
  {
   "cell_type": "markdown",
   "metadata": {},
   "source": [
    "Plotando:"
   ]
  },
  {
   "cell_type": "code",
   "execution_count": null,
   "metadata": {},
   "outputs": [],
   "source": [
    "import matplotlib.pyplot as plt\n",
    "for species, group in iris.groupby('species'):\n",
    "    plt.scatter(group['petal_length'], group['sepal_length'],\n",
    "               color=color_map[species],\n",
    "               alpha=0.3, edgeColor=None,\n",
    "               label=species)\n",
    "\n",
    "plt.legend(frameon=True, title='Espécie')\n",
    "plt.xlabel('Tam. Pétala')\n",
    "plt.ylabel('Tam. Sépala')\n",
    "plt.plot()"
   ]
  },
  {
   "cell_type": "markdown",
   "metadata": {},
   "source": [
    "## Matplotlib: conclusão\n",
    "### Vantagens\n",
    "+ Baseada em MatLab\n",
    "+ Biblioteca padrão há mais de uma década (= bem testada)\n",
    "+ Pouca dificuldade para produzir diferentes gráficos\n",
    "### Desvantagens\n",
    "+ Super descritiva\n",
    "+ Pobre de estilo\n",
    "+ Sem gráficos interativos\n",
    "+ Lento para grandes volumes de dados"
   ]
  },
  {
   "cell_type": "markdown",
   "metadata": {},
   "source": [
    "## 1.2 Seaborn\n",
    "### Gráfico de dispersão"
   ]
  },
  {
   "cell_type": "markdown",
   "metadata": {},
   "source": [
    "Instalando a biblioteca:"
   ]
  },
  {
   "cell_type": "code",
   "execution_count": null,
   "metadata": {},
   "outputs": [],
   "source": [
    "!pip install seaborn"
   ]
  },
  {
   "cell_type": "code",
   "execution_count": null,
   "metadata": {},
   "outputs": [],
   "source": [
    "import seaborn as sns\n",
    "sns.lmplot('petal_length', 'sepal_length', iris,\n",
    "          hue='species', fit_reg=False)"
   ]
  },
  {
   "cell_type": "markdown",
   "metadata": {},
   "source": [
    "### Dispersão múltipla"
   ]
  },
  {
   "cell_type": "code",
   "execution_count": null,
   "metadata": {},
   "outputs": [],
   "source": [
    "sns.pairplot(iris, hue='species')"
   ]
  },
  {
   "cell_type": "markdown",
   "metadata": {},
   "source": [
    "## Seaborn: conclusão\n",
    "+ Matplotlib com estilo melhorado\n",
    "+ Foco em visualização estatística e modelagem"
   ]
  },
  {
   "cell_type": "markdown",
   "metadata": {},
   "source": [
    "## 1.3 Bokeh"
   ]
  },
  {
   "cell_type": "markdown",
   "metadata": {},
   "source": [
    "Instalando:"
   ]
  },
  {
   "cell_type": "code",
   "execution_count": null,
   "metadata": {},
   "outputs": [],
   "source": [
    "!pip install bokeh"
   ]
  },
  {
   "cell_type": "code",
   "execution_count": null,
   "metadata": {},
   "outputs": [],
   "source": [
    "import bokeh\n",
    "p = figure()\n",
    "p.cirle(iris.petal_length, iris.sepal_length)\n",
    "show(p)"
   ]
  },
  {
   "cell_type": "markdown",
   "metadata": {},
   "source": [
    "## Bokeh: conclusão\n",
    "### Vantagens\n",
    "+ Interatividade\n",
    "+ Camada imperativa e declarativa\n",
    "+ Suporta grandes datasets/streammings\n",
    "+ Geoespacial\n",
    "+ Completamente open source\n",
    "### Desvantagens\n",
    "+ Não exporta para PDF/EPS\n",
    "+ Base de usuários menor que a Matplotlib"
   ]
  },
  {
   "cell_type": "markdown",
   "metadata": {},
   "source": [
    "### Andrews Curves"
   ]
  },
  {
   "cell_type": "code",
   "execution_count": null,
   "metadata": {},
   "outputs": [],
   "source": [
    "from pandas.plotting import andrews_curves\n",
    "andrews_curves(iris, 'species')"
   ]
  },
  {
   "cell_type": "markdown",
   "metadata": {},
   "source": [
    "# 2. Bibliotecas declarativas"
   ]
  },
  {
   "cell_type": "markdown",
   "metadata": {},
   "source": [
    "## 2.1 Altair\n",
    "Instalando:"
   ]
  },
  {
   "cell_type": "code",
   "execution_count": null,
   "metadata": {},
   "outputs": [],
   "source": [
    "!pip install altair"
   ]
  },
  {
   "cell_type": "markdown",
   "metadata": {},
   "source": [
    "Adicionando a extensão Vega:"
   ]
  },
  {
   "cell_type": "code",
   "execution_count": null,
   "metadata": {},
   "outputs": [],
   "source": [
    "!jupyter nbextension install --sys-prefix --py vega "
   ]
  },
  {
   "cell_type": "markdown",
   "metadata": {},
   "source": [
    "### Gráfico geospacial"
   ]
  },
  {
   "cell_type": "markdown",
   "metadata": {},
   "source": [
    "Baixando o dataset:"
   ]
  },
  {
   "cell_type": "code",
   "execution_count": null,
   "metadata": {},
   "outputs": [],
   "source": [
    "!wget https://github.com/jakevdp/altair-examples/raw/master/data/airports.csv\n",
    "data_url = 'airports.csv'\n",
    "pd.read_csv(data_url).head()"
   ]
  },
  {
   "cell_type": "markdown",
   "metadata": {},
   "source": [
    "Plotando:"
   ]
  },
  {
   "cell_type": "code",
   "execution_count": null,
   "metadata": {},
   "outputs": [],
   "source": [
    "from altair import Chart, X, Y, Axis, Scale\n",
    "\n",
    "Chart(data_url).mark_circle(\n",
    "    size=1,\n",
    "    opacity=0.2\n",
    ").encode(\n",
    "    x=X('longitude_deg:Q', axis=Axis(title=' ')),\n",
    "    y=Y('latitude_deg:Q', axis=Axis(title=' '),\n",
    "        scale=Scale(domain=(-60, 80))),\n",
    "    color='type:N',\n",
    ").configure_cell(\n",
    "    width=800,\n",
    "    height=350\n",
    ").configure_axis(\n",
    "    grid=False,\n",
    "    axisWidth=0,\n",
    "    tickWidth=0,\n",
    "    labels=False,\n",
    ")"
   ]
  },
  {
   "cell_type": "markdown",
   "metadata": {},
   "source": [
    "### Gráfico sobreposto"
   ]
  },
  {
   "cell_type": "markdown",
   "metadata": {},
   "source": [
    "Baixando o dataset:"
   ]
  },
  {
   "cell_type": "code",
   "execution_count": null,
   "metadata": {},
   "outputs": [],
   "source": [
    "!wget https://raw.githubusercontent.com/jakevdp/altair-examples/master/data/strikeouts.csv\n",
    "data = \"strikeouts.csv\"\n",
    "pd.read_csv(data).head()"
   ]
  },
  {
   "cell_type": "markdown",
   "metadata": {},
   "source": [
    "Plotando a primeira camada:"
   ]
  },
  {
   "cell_type": "code",
   "execution_count": null,
   "metadata": {},
   "outputs": [],
   "source": [
    "from altair import *\n",
    "\n",
    "# Create an empty LayeredChart with our data\n",
    "chart = LayeredChart(data).transform_data(\n",
    "    calculate=[Formula(field='so_per_game', expr='datum.so / datum.g')]\n",
    ").configure_cell(\n",
    "    height=300,\n",
    "    width=700\n",
    ")\n",
    "\n",
    "# Add-in team-by-team points\n",
    "chart += Chart().mark_circle(\n",
    "    color='gray',\n",
    "    opacity=0.1,\n",
    ").encode(\n",
    "    x=X('year:T', timeUnit='year', axis=Axis(title=' ')),\n",
    "    y=Y('so_per_game', axis=Axis(title='Strikeouts Per Game')),\n",
    "    detail='histcode:N',\n",
    ")\n",
    "\n",
    "chart.display()"
   ]
  },
  {
   "cell_type": "markdown",
   "metadata": {},
   "source": [
    "Segunda camada:"
   ]
  },
  {
   "cell_type": "code",
   "execution_count": null,
   "metadata": {},
   "outputs": [],
   "source": [
    "# Add a rolling-mean as a line\n",
    "chart += Chart().mark_line().encode(\n",
    "    x='year:T',\n",
    "    y='mean(so_per_game)',\n",
    ")\n",
    "\n",
    "# Add rolling-mean as a circle\n",
    "chart += Chart().mark_circle().encode(\n",
    "    x='year:T',\n",
    "    y='mean(so_per_game)',\n",
    ")\n",
    "\n",
    "chart.display()"
   ]
  }
 ],
 "metadata": {
  "kernelspec": {
   "display_name": "Python 3",
   "language": "python",
   "name": "python3"
  },
  "language_info": {
   "codemirror_mode": {
    "name": "ipython",
    "version": 3
   },
   "file_extension": ".py",
   "mimetype": "text/x-python",
   "name": "python",
   "nbconvert_exporter": "python",
   "pygments_lexer": "ipython3",
   "version": "3.5.4rc1"
  }
 },
 "nbformat": 4,
 "nbformat_minor": 2
}
